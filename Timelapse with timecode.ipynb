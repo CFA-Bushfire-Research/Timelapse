{
 "cells": [
  {
   "cell_type": "code",
   "execution_count": 1,
   "metadata": {},
   "outputs": [],
   "source": [
    "from PIL import Image, ImageFont, ImageDraw\n",
    "from datetime import datetime\n",
    "import os\n",
    "from glob import glob\n",
    "\n",
    "from tqdm import tqdm\n",
    "import os, os.path\n",
    "try:\n",
    "    from moviepy.editor import *\n",
    "except:\n",
    "    print('moviepy install required')\n",
    "    !pip install moviepy\n",
    "    from moviepy.editor import *"
   ]
  },
  {
   "cell_type": "code",
   "execution_count": 2,
   "metadata": {},
   "outputs": [],
   "source": [
    "timelapse_params_json = {'photo_directory':r'D:\\DCIM\\100CANON',\n",
    "                         'image_format_suffix':'.JPG',\n",
    "                         'video_out_format_suffix':'.mp4',\n",
    "                         'custom_output_directory':None,\n",
    "                         'manual_time_correction':None,\n",
    "                         'fps':15,\n",
    "                         'video_width':1920,\n",
    "                         'font_path':r'C:\\Users\\System-Pc\\Desktop\\arial.ttf',\n",
    "                         'font_size':300,\n",
    "                         'custom_event_name':None\n",
    "                        }"
   ]
  },
  {
   "cell_type": "code",
   "execution_count": 6,
   "metadata": {},
   "outputs": [],
   "source": [
    "def ensure_dir(path):\n",
    "    if not os.path.isdir(path):\n",
    "        os.mkdir(path)\n",
    "    return\n",
    "    \n",
    "def get_date_taken(path,manual_time_correction=None):\n",
    "    time_str = Image.open(path).getexif()[36867]\n",
    "    if manual_time_correction is not None:\n",
    "        ## Time correction here\n",
    "        time_str = time_str\n",
    "    return time_str\n",
    "\n",
    "def markup_image(image_filename):\n",
    "    image = Image.open(image_filename)  \n",
    "    exif_timestr = image.getexif()[36867]\n",
    "    exif_dt = datetime.strptime(exif_timestr, '%Y:%m:%d %H:%M:%S')\n",
    "\n",
    "    if timelapse_params_json['manual_time_correction'] is not None:\n",
    "        ## Time correction here\n",
    "        exif_dt = exif_dt\n",
    "\n",
    "    draw = ImageDraw.Draw(image)  \n",
    "    # specified font size \n",
    "    font = ImageFont.truetype(timelapse_params_json['font_path'], timelapse_params_json['font_size'])  \n",
    "    text = '{}'.format(exif_dt.strftime('%c'))\n",
    "    # drawing text size \n",
    "    draw.text((5, 5), text, font = font, align =\"right\")  \n",
    "    image.save(os.path.join(markup_photo_dir,image_filename))\n",
    "    #image.show() \n",
    "    return"
   ]
  },
  {
   "cell_type": "code",
   "execution_count": 7,
   "metadata": {},
   "outputs": [],
   "source": [
    "os.chdir(timelapse_params_json['photo_directory'])\n",
    "photo_list = glob(r'*{}'.format(timelapse_params_json['image_format_suffix']))\n",
    "if timelapse_params_json['custom_output_directory'] is None:\n",
    "    dirName = datetime.strptime(get_date_taken(r'./{}'.format(photo_list[0])), '%Y:%m:%d %H:%M:%S').strftime('%d%b%y')\n",
    "    output_directory = os.path.join(os.path.abspath(os.path.join(os.getcwd(), os.pardir)),dirName)\n",
    "    ensure_dir(output_directory)\n",
    "else:\n",
    "    output_directory = custom_output_directory\n",
    "    ensure_dir(output_directory)\n",
    "\n",
    "markup_photo_dir = os.path.join(output_directory,'marked_up_photos')\n",
    "ensure_dir(markup_photo_dir)\n",
    "\n",
    "#Create a standard filename\n",
    "first_photo_dt = datetime.strptime(get_date_taken(r'./{}'.format(photo_list[0])), '%Y:%m:%d %H:%M:%S')\n",
    "last_photo_dt = datetime.strptime(get_date_taken(r'./{}'.format(photo_list[-1])), '%Y:%m:%d %H:%M:%S')\n",
    "startend_str = 'start{}_end{}'.format(first_photo_dt.strftime('%H%M_%d%b%y'),last_photo_dt.strftime('%H%M_%d%b%y'))\n",
    "if timelapse_params_json['custom_event_name'] is None:\n",
    "    output_video_name = '_'.join(['timelapse',startend_str])\n",
    "else:\n",
    "    output_video_name = '_'.join([timelapse_params_json['custom_event_name'],startend_str])"
   ]
  },
  {
   "cell_type": "code",
   "execution_count": 8,
   "metadata": {},
   "outputs": [
    {
     "name": "stderr",
     "output_type": "stream",
     "text": [
      "100%|██████████| 1982/1982 [43:44<00:00,  1.32s/it] \n"
     ]
    }
   ],
   "source": [
    "for filename in tqdm(photo_list):\n",
    "    markup_image(filename)"
   ]
  },
  {
   "cell_type": "code",
   "execution_count": 9,
   "metadata": {},
   "outputs": [
    {
     "name": "stdout",
     "output_type": "stream",
     "text": [
      "Moviepy - Building video D:\\DCIM\\19Mar21\\timelapse_start1156_19Mar21_end1728_19Mar21.mp4.\n",
      "Moviepy - Writing video D:\\DCIM\\19Mar21\\timelapse_start1156_19Mar21_end1728_19Mar21.mp4\n",
      "\n"
     ]
    },
    {
     "name": "stderr",
     "output_type": "stream",
     "text": [
      "                                                                       \r"
     ]
    },
    {
     "name": "stdout",
     "output_type": "stream",
     "text": [
      "Moviepy - Done !\n",
      "Moviepy - video ready D:\\DCIM\\19Mar21\\timelapse_start1156_19Mar21_end1728_19Mar21.mp4\n"
     ]
    }
   ],
   "source": [
    "out_filename = os.path.join(output_directory,output_video_name+timelapse_params_json['video_out_format_suffix'])\n",
    "file_names = [os.path.join(markup_photo_dir,name) for name in os.listdir(markup_photo_dir) if name[-4:] == timelapse_params_json['image_format_suffix']]\n",
    "\n",
    "clip = ImageSequenceClip(file_names, fps = timelapse_params_json['fps'])\n",
    "clip = clip.resize(width=timelapse_params_json['video_width'])\n",
    "clip.write_videofile(out_filename, fps = timelapse_params_json['fps'])"
   ]
  },
  {
   "cell_type": "code",
   "execution_count": 149,
   "metadata": {},
   "outputs": [
    {
     "data": {
      "text/plain": [
       "datetime.datetime(2021, 3, 9, 9, 10, 15, 636427)"
      ]
     },
     "execution_count": 149,
     "metadata": {},
     "output_type": "execute_result"
    }
   ],
   "source": [
    "clip = VideoFileClip(\"video.mp4\")\n",
    "fps= 1.0 # take one frame per second\n",
    "nframes = clip.duration*fps # total number of frames used\n",
    "total_image = sum(clip.iter_frames(fps,dtype=float,logger='bar'))\n",
    "average_image = ImageClip(total_image/ nframes)\n",
    "average_image.save_frame(\"average_test.png\")"
   ]
  },
  {
   "cell_type": "code",
   "execution_count": null,
   "metadata": {},
   "outputs": [],
   "source": []
  }
 ],
 "metadata": {
  "kernelspec": {
   "display_name": "Python 3",
   "language": "python",
   "name": "python3"
  },
  "language_info": {
   "codemirror_mode": {
    "name": "ipython",
    "version": 3
   },
   "file_extension": ".py",
   "mimetype": "text/x-python",
   "name": "python",
   "nbconvert_exporter": "python",
   "pygments_lexer": "ipython3",
   "version": "3.8.5"
  }
 },
 "nbformat": 4,
 "nbformat_minor": 4
}
