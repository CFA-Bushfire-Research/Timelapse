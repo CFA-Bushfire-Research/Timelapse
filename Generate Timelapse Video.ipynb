{
 "cells": [
  {
   "cell_type": "code",
   "execution_count": 1,
   "metadata": {},
   "outputs": [],
   "source": [
    "import os, os.path\n",
    "try:\n",
    "    from moviepy.editor import *\n",
    "except:\n",
    "    print('moviepy install required')\n",
    "    !pip install moviepy\n",
    "    from moviepy.editor import *"
   ]
  },
  {
   "cell_type": "code",
   "execution_count": 11,
   "metadata": {},
   "outputs": [
    {
     "name": "stderr",
     "output_type": "stream",
     "text": [
      "\r",
      "t:   0%|          | 0/696 [00:00<?, ?it/s, now=None]"
     ]
    },
    {
     "name": "stdout",
     "output_type": "stream",
     "text": [
      "Moviepy - Building video ./SVTTimelapse.mp4.\n",
      "Moviepy - Writing video ./SVTTimelapse.mp4\n",
      "\n"
     ]
    },
    {
     "name": "stderr",
     "output_type": "stream",
     "text": [
      "                                                              \r"
     ]
    },
    {
     "name": "stdout",
     "output_type": "stream",
     "text": [
      "Moviepy - Done !\n",
      "Moviepy - video ready ./SVTTimelapse.mp4\n"
     ]
    }
   ],
   "source": [
    "frames = 60\n",
    "directory = 'E:DCIM/103_0228/'\n",
    "out_filename = 'timplaplse.mp4'\n",
    "\n",
    "file_names = [directory + name for name in os.listdir(directory) if name[-4:] == \".JPG\"]\n",
    "\n",
    "clip = ImageSequenceClip(file_names, fps = frames)\n",
    "\n",
    "clip.write_videofile(out_filename, fps = frames)"
   ]
  },
  {
   "cell_type": "code",
   "execution_count": null,
   "metadata": {},
   "outputs": [],
   "source": []
  }
 ],
 "metadata": {
  "kernelspec": {
   "display_name": "Python 3",
   "language": "python",
   "name": "python3"
  },
  "language_info": {
   "codemirror_mode": {
    "name": "ipython",
    "version": 3
   },
   "file_extension": ".py",
   "mimetype": "text/x-python",
   "name": "python",
   "nbconvert_exporter": "python",
   "pygments_lexer": "ipython3",
   "version": "3.8.5"
  }
 },
 "nbformat": 4,
 "nbformat_minor": 4
}
