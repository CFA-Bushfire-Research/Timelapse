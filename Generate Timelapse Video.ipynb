{
 "cells": [
  {
   "cell_type": "code",
   "execution_count": 1,
   "source": [
    "import os, os.path\r\n",
    "try:\r\n",
    "    from moviepy.editor import *\r\n",
    "except:\r\n",
    "    print('moviepy install required')\r\n",
    "    !pip install moviepy\r\n",
    "    from moviepy.editor import *"
   ],
   "outputs": [],
   "metadata": {}
  },
  {
   "cell_type": "code",
   "execution_count": 11,
   "source": [
    "frames = 60\r\n",
    "directory = 'fakedata'\r\n",
    "out_filename = 'timplaplse.mp4'\r\n",
    "\r\n",
    "file_names = [directory + name for name in os.listdir(directory) if name[-4:] == \".JPG\"]\r\n",
    "\r\n",
    "clip = ImageSequenceClip(file_names, fps = frames)\r\n",
    "\r\n",
    "clip.write_videofile(out_filename, fps = frames)"
   ],
   "outputs": [
    {
     "output_type": "stream",
     "name": "stderr",
     "text": [
      "\r\n",
      "t:   0%|          | 0/696 [00:00<?, ?it/s, now=None]"
     ]
    },
    {
     "output_type": "stream",
     "name": "stdout",
     "text": [
      "Moviepy - Building video ./SVTTimelapse.mp4.\n",
      "Moviepy - Writing video ./SVTTimelapse.mp4\n",
      "\n"
     ]
    },
    {
     "output_type": "stream",
     "name": "stderr",
     "text": [
      "                                                              \r"
     ]
    },
    {
     "output_type": "stream",
     "name": "stdout",
     "text": [
      "Moviepy - Done !\n",
      "Moviepy - video ready ./SVTTimelapse.mp4\n"
     ]
    }
   ],
   "metadata": {}
  },
  {
   "cell_type": "code",
   "execution_count": null,
   "source": [],
   "outputs": [],
   "metadata": {}
  }
 ],
 "metadata": {
  "kernelspec": {
   "display_name": "Python 3",
   "language": "python",
   "name": "python3"
  },
  "language_info": {
   "codemirror_mode": {
    "name": "ipython",
    "version": 3
   },
   "file_extension": ".py",
   "mimetype": "text/x-python",
   "name": "python",
   "nbconvert_exporter": "python",
   "pygments_lexer": "ipython3",
   "version": "3.8.5"
  }
 },
 "nbformat": 4,
 "nbformat_minor": 4
}